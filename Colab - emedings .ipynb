{
  "nbformat": 4,
  "nbformat_minor": 0,
  "metadata": {
    "colab": {
      "name": "Untitled",
      "provenance": []
    },
    "kernelspec": {
      "name": "python3",
      "display_name": "Python 3"
    },
    "widgets": {
      "application/vnd.jupyter.widget-state+json": {
        "d0e354f99bd9440cb16af4f85381a41a": {
          "model_module": "@jupyter-widgets/controls",
          "model_name": "HBoxModel",
          "state": {
            "_view_name": "HBoxView",
            "_dom_classes": [],
            "_model_name": "HBoxModel",
            "_view_module": "@jupyter-widgets/controls",
            "_model_module_version": "1.5.0",
            "_view_count": null,
            "_view_module_version": "1.5.0",
            "box_style": "",
            "layout": "IPY_MODEL_d1db6da5a66f4a1da0e9e9846438001c",
            "_model_module": "@jupyter-widgets/controls",
            "children": [
              "IPY_MODEL_a29534f6393e490c8a0e8e0c99e85f5d",
              "IPY_MODEL_5bcad53c51da4ca39dc01038ca1d89aa"
            ]
          }
        },
        "d1db6da5a66f4a1da0e9e9846438001c": {
          "model_module": "@jupyter-widgets/base",
          "model_name": "LayoutModel",
          "state": {
            "_view_name": "LayoutView",
            "grid_template_rows": null,
            "right": null,
            "justify_content": null,
            "_view_module": "@jupyter-widgets/base",
            "overflow": null,
            "_model_module_version": "1.2.0",
            "_view_count": null,
            "flex_flow": null,
            "width": null,
            "min_width": null,
            "border": null,
            "align_items": null,
            "bottom": null,
            "_model_module": "@jupyter-widgets/base",
            "top": null,
            "grid_column": null,
            "overflow_y": null,
            "overflow_x": null,
            "grid_auto_flow": null,
            "grid_area": null,
            "grid_template_columns": null,
            "flex": null,
            "_model_name": "LayoutModel",
            "justify_items": null,
            "grid_row": null,
            "max_height": null,
            "align_content": null,
            "visibility": null,
            "align_self": null,
            "height": null,
            "min_height": null,
            "padding": null,
            "grid_auto_rows": null,
            "grid_gap": null,
            "max_width": null,
            "order": null,
            "_view_module_version": "1.2.0",
            "grid_template_areas": null,
            "object_position": null,
            "object_fit": null,
            "grid_auto_columns": null,
            "margin": null,
            "display": null,
            "left": null
          }
        },
        "a29534f6393e490c8a0e8e0c99e85f5d": {
          "model_module": "@jupyter-widgets/controls",
          "model_name": "FloatProgressModel",
          "state": {
            "_view_name": "ProgressView",
            "style": "IPY_MODEL_36269a8f330940148c62cda1c6340fc9",
            "_dom_classes": [],
            "description": "100%",
            "_model_name": "FloatProgressModel",
            "bar_style": "success",
            "max": 23,
            "_view_module": "@jupyter-widgets/controls",
            "_model_module_version": "1.5.0",
            "value": 23,
            "_view_count": null,
            "_view_module_version": "1.5.0",
            "orientation": "horizontal",
            "min": 0,
            "description_tooltip": null,
            "_model_module": "@jupyter-widgets/controls",
            "layout": "IPY_MODEL_60dcc3d4e9cc42489329bd4805c9eab9"
          }
        },
        "5bcad53c51da4ca39dc01038ca1d89aa": {
          "model_module": "@jupyter-widgets/controls",
          "model_name": "HTMLModel",
          "state": {
            "_view_name": "HTMLView",
            "style": "IPY_MODEL_0a13bec6f9bf4074a754a89952ce5b8d",
            "_dom_classes": [],
            "description": "",
            "_model_name": "HTMLModel",
            "placeholder": "​",
            "_view_module": "@jupyter-widgets/controls",
            "_model_module_version": "1.5.0",
            "value": " 23/23 [00:30&lt;00:00,  1.33s/it]",
            "_view_count": null,
            "_view_module_version": "1.5.0",
            "description_tooltip": null,
            "_model_module": "@jupyter-widgets/controls",
            "layout": "IPY_MODEL_fdea2b03b4a54b72b431e7931afe871d"
          }
        },
        "36269a8f330940148c62cda1c6340fc9": {
          "model_module": "@jupyter-widgets/controls",
          "model_name": "ProgressStyleModel",
          "state": {
            "_view_name": "StyleView",
            "_model_name": "ProgressStyleModel",
            "description_width": "initial",
            "_view_module": "@jupyter-widgets/base",
            "_model_module_version": "1.5.0",
            "_view_count": null,
            "_view_module_version": "1.2.0",
            "bar_color": null,
            "_model_module": "@jupyter-widgets/controls"
          }
        },
        "60dcc3d4e9cc42489329bd4805c9eab9": {
          "model_module": "@jupyter-widgets/base",
          "model_name": "LayoutModel",
          "state": {
            "_view_name": "LayoutView",
            "grid_template_rows": null,
            "right": null,
            "justify_content": null,
            "_view_module": "@jupyter-widgets/base",
            "overflow": null,
            "_model_module_version": "1.2.0",
            "_view_count": null,
            "flex_flow": null,
            "width": null,
            "min_width": null,
            "border": null,
            "align_items": null,
            "bottom": null,
            "_model_module": "@jupyter-widgets/base",
            "top": null,
            "grid_column": null,
            "overflow_y": null,
            "overflow_x": null,
            "grid_auto_flow": null,
            "grid_area": null,
            "grid_template_columns": null,
            "flex": null,
            "_model_name": "LayoutModel",
            "justify_items": null,
            "grid_row": null,
            "max_height": null,
            "align_content": null,
            "visibility": null,
            "align_self": null,
            "height": null,
            "min_height": null,
            "padding": null,
            "grid_auto_rows": null,
            "grid_gap": null,
            "max_width": null,
            "order": null,
            "_view_module_version": "1.2.0",
            "grid_template_areas": null,
            "object_position": null,
            "object_fit": null,
            "grid_auto_columns": null,
            "margin": null,
            "display": null,
            "left": null
          }
        },
        "0a13bec6f9bf4074a754a89952ce5b8d": {
          "model_module": "@jupyter-widgets/controls",
          "model_name": "DescriptionStyleModel",
          "state": {
            "_view_name": "StyleView",
            "_model_name": "DescriptionStyleModel",
            "description_width": "",
            "_view_module": "@jupyter-widgets/base",
            "_model_module_version": "1.5.0",
            "_view_count": null,
            "_view_module_version": "1.2.0",
            "_model_module": "@jupyter-widgets/controls"
          }
        },
        "fdea2b03b4a54b72b431e7931afe871d": {
          "model_module": "@jupyter-widgets/base",
          "model_name": "LayoutModel",
          "state": {
            "_view_name": "LayoutView",
            "grid_template_rows": null,
            "right": null,
            "justify_content": null,
            "_view_module": "@jupyter-widgets/base",
            "overflow": null,
            "_model_module_version": "1.2.0",
            "_view_count": null,
            "flex_flow": null,
            "width": null,
            "min_width": null,
            "border": null,
            "align_items": null,
            "bottom": null,
            "_model_module": "@jupyter-widgets/base",
            "top": null,
            "grid_column": null,
            "overflow_y": null,
            "overflow_x": null,
            "grid_auto_flow": null,
            "grid_area": null,
            "grid_template_columns": null,
            "flex": null,
            "_model_name": "LayoutModel",
            "justify_items": null,
            "grid_row": null,
            "max_height": null,
            "align_content": null,
            "visibility": null,
            "align_self": null,
            "height": null,
            "min_height": null,
            "padding": null,
            "grid_auto_rows": null,
            "grid_gap": null,
            "max_width": null,
            "order": null,
            "_view_module_version": "1.2.0",
            "grid_template_areas": null,
            "object_position": null,
            "object_fit": null,
            "grid_auto_columns": null,
            "margin": null,
            "display": null,
            "left": null
          }
        }
      }
    }
  },
  "cells": [
    {
      "cell_type": "code",
      "metadata": {
        "id": "PlnT2iL7rwGf",
        "colab_type": "code",
        "colab": {}
      },
      "source": [
        "# !wget -qO - https://www.mongodb.org/static/pgp/server-4.2.asc | sudo apt-key add -\n",
        "# !echo \"deb [ arch=amd64,arm64 ] https://repo.mongodb.org/apt/ubuntu bionic/mongodb-org/4.2 multiverse\" | sudo tee /etc/apt/sources.list.d/mongodb-org-4.2.list\n",
        "# !sudo apt-get update\n",
        "# !sudo apt-get install -y mongodb-org"
      ],
      "execution_count": 0,
      "outputs": []
    },
    {
      "cell_type": "code",
      "metadata": {
        "id": "AHuG0BIhs3y4",
        "colab_type": "code",
        "outputId": "a8fd75e7-654d-4e27-cb70-3edc3aae3b1d",
        "colab": {
          "base_uri": "https://localhost:8080/",
          "height": 1000
        }
      },
      "source": [
        "!pip install pymongo\n",
        "!apt install mongodb\n",
        "!service mongodb start"
      ],
      "execution_count": 0,
      "outputs": [
        {
          "output_type": "stream",
          "text": [
            "Requirement already satisfied: pymongo in /usr/local/lib/python3.6/dist-packages (3.10.1)\n",
            "Reading package lists... Done\n",
            "Building dependency tree       \n",
            "Reading state information... Done\n",
            "The following additional packages will be installed:\n",
            "  libpcap0.8 libstemmer0d libyaml-cpp0.5v5 mongo-tools mongodb-clients\n",
            "  mongodb-server mongodb-server-core\n",
            "The following NEW packages will be installed:\n",
            "  libpcap0.8 libstemmer0d libyaml-cpp0.5v5 mongo-tools mongodb mongodb-clients\n",
            "  mongodb-server mongodb-server-core\n",
            "0 upgraded, 8 newly installed, 0 to remove and 31 not upgraded.\n",
            "Need to get 53.1 MB of archives.\n",
            "After this operation, 215 MB of additional disk space will be used.\n",
            "Get:1 http://archive.ubuntu.com/ubuntu bionic-updates/main amd64 libpcap0.8 amd64 1.8.1-6ubuntu1.18.04.1 [118 kB]\n",
            "Get:2 http://archive.ubuntu.com/ubuntu bionic/main amd64 libstemmer0d amd64 0+svn585-1build1 [62.5 kB]\n",
            "Get:3 http://archive.ubuntu.com/ubuntu bionic/universe amd64 libyaml-cpp0.5v5 amd64 0.5.2-4ubuntu1 [150 kB]\n",
            "Get:4 http://archive.ubuntu.com/ubuntu bionic/universe amd64 mongo-tools amd64 3.6.3-0ubuntu1 [12.3 MB]\n",
            "Get:5 http://archive.ubuntu.com/ubuntu bionic-updates/universe amd64 mongodb-clients amd64 1:3.6.3-0ubuntu1.1 [20.2 MB]\n",
            "Get:6 http://archive.ubuntu.com/ubuntu bionic-updates/universe amd64 mongodb-server-core amd64 1:3.6.3-0ubuntu1.1 [20.3 MB]\n",
            "Get:7 http://archive.ubuntu.com/ubuntu bionic-updates/universe amd64 mongodb-server all 1:3.6.3-0ubuntu1.1 [12.6 kB]\n",
            "Get:8 http://archive.ubuntu.com/ubuntu bionic-updates/universe amd64 mongodb amd64 1:3.6.3-0ubuntu1.1 [9,968 B]\n",
            "Fetched 53.1 MB in 3s (21.0 MB/s)\n",
            "Selecting previously unselected package libpcap0.8:amd64.\n",
            "(Reading database ... 144433 files and directories currently installed.)\n",
            "Preparing to unpack .../0-libpcap0.8_1.8.1-6ubuntu1.18.04.1_amd64.deb ...\n",
            "Unpacking libpcap0.8:amd64 (1.8.1-6ubuntu1.18.04.1) ...\n",
            "Selecting previously unselected package libstemmer0d:amd64.\n",
            "Preparing to unpack .../1-libstemmer0d_0+svn585-1build1_amd64.deb ...\n",
            "Unpacking libstemmer0d:amd64 (0+svn585-1build1) ...\n",
            "Selecting previously unselected package libyaml-cpp0.5v5:amd64.\n",
            "Preparing to unpack .../2-libyaml-cpp0.5v5_0.5.2-4ubuntu1_amd64.deb ...\n",
            "Unpacking libyaml-cpp0.5v5:amd64 (0.5.2-4ubuntu1) ...\n",
            "Selecting previously unselected package mongo-tools.\n",
            "Preparing to unpack .../3-mongo-tools_3.6.3-0ubuntu1_amd64.deb ...\n",
            "Unpacking mongo-tools (3.6.3-0ubuntu1) ...\n",
            "Selecting previously unselected package mongodb-clients.\n",
            "Preparing to unpack .../4-mongodb-clients_1%3a3.6.3-0ubuntu1.1_amd64.deb ...\n",
            "Unpacking mongodb-clients (1:3.6.3-0ubuntu1.1) ...\n",
            "Selecting previously unselected package mongodb-server-core.\n",
            "Preparing to unpack .../5-mongodb-server-core_1%3a3.6.3-0ubuntu1.1_amd64.deb ...\n",
            "Unpacking mongodb-server-core (1:3.6.3-0ubuntu1.1) ...\n",
            "Selecting previously unselected package mongodb-server.\n",
            "Preparing to unpack .../6-mongodb-server_1%3a3.6.3-0ubuntu1.1_all.deb ...\n",
            "Unpacking mongodb-server (1:3.6.3-0ubuntu1.1) ...\n",
            "Selecting previously unselected package mongodb.\n",
            "Preparing to unpack .../7-mongodb_1%3a3.6.3-0ubuntu1.1_amd64.deb ...\n",
            "Unpacking mongodb (1:3.6.3-0ubuntu1.1) ...\n",
            "Setting up libstemmer0d:amd64 (0+svn585-1build1) ...\n",
            "Setting up libyaml-cpp0.5v5:amd64 (0.5.2-4ubuntu1) ...\n",
            "Setting up mongodb-server-core (1:3.6.3-0ubuntu1.1) ...\n",
            "Setting up libpcap0.8:amd64 (1.8.1-6ubuntu1.18.04.1) ...\n",
            "Setting up mongodb-clients (1:3.6.3-0ubuntu1.1) ...\n",
            "Setting up mongodb-server (1:3.6.3-0ubuntu1.1) ...\n",
            "invoke-rc.d: could not determine current runlevel\n",
            "invoke-rc.d: policy-rc.d denied execution of start.\n",
            "Created symlink /etc/systemd/system/multi-user.target.wants/mongodb.service → /lib/systemd/system/mongodb.service.\n",
            "Setting up mongo-tools (3.6.3-0ubuntu1) ...\n",
            "Setting up mongodb (1:3.6.3-0ubuntu1.1) ...\n",
            "Processing triggers for systemd (237-3ubuntu10.40) ...\n",
            "Processing triggers for man-db (2.8.3-2ubuntu0.1) ...\n",
            "Processing triggers for libc-bin (2.27-3ubuntu1) ...\n",
            "/sbin/ldconfig.real: /usr/local/lib/python3.6/dist-packages/ideep4py/lib/libmkldnn.so.0 is not a symbolic link\n",
            "\n",
            " * Starting database mongodb\n",
            "   ...done.\n"
          ],
          "name": "stdout"
        }
      ]
    },
    {
      "cell_type": "code",
      "metadata": {
        "id": "kE0CqaaaHUZ7",
        "colab_type": "code",
        "outputId": "3ccbb40b-0326-47de-b7eb-89a22cc18e6c",
        "colab": {
          "base_uri": "https://localhost:8080/",
          "height": 125
        }
      },
      "source": [
        "from google.colab import drive\n",
        "drive.mount('/content/drive')"
      ],
      "execution_count": 0,
      "outputs": [
        {
          "output_type": "stream",
          "text": [
            "Go to this URL in a browser: https://accounts.google.com/o/oauth2/auth?client_id=947318989803-6bn6qk8qdgf4n4g3pfee6491hc0brc4i.apps.googleusercontent.com&redirect_uri=urn%3aietf%3awg%3aoauth%3a2.0%3aoob&response_type=code&scope=email%20https%3a%2f%2fwww.googleapis.com%2fauth%2fdocs.test%20https%3a%2f%2fwww.googleapis.com%2fauth%2fdrive%20https%3a%2f%2fwww.googleapis.com%2fauth%2fdrive.photos.readonly%20https%3a%2f%2fwww.googleapis.com%2fauth%2fpeopleapi.readonly\n",
            "\n",
            "Enter your authorization code:\n",
            "··········\n",
            "Mounted at /content/drive\n"
          ],
          "name": "stdout"
        }
      ]
    },
    {
      "cell_type": "code",
      "metadata": {
        "id": "XJblFhTntO_x",
        "colab_type": "code",
        "outputId": "3f4ec760-db79-49c5-cb5a-441c499a9334",
        "colab": {
          "base_uri": "https://localhost:8080/",
          "height": 52
        }
      },
      "source": [
        "import json\n",
        "import datetime\n",
        "import time, os\n",
        "import re\n",
        "\n",
        "import pandas as pd\n",
        "import numpy as np\n",
        "\n",
        "import requests\n",
        "import matplotlib.pyplot as plt\n",
        "import seaborn as sns\n",
        "from bs4 import BeautifulSoup\n",
        "\n",
        "from pymongo import MongoClient\n",
        "\n",
        "from tqdm.notebook import tqdm"
      ],
      "execution_count": 0,
      "outputs": [
        {
          "output_type": "stream",
          "text": [
            "/usr/local/lib/python3.6/dist-packages/statsmodels/tools/_testing.py:19: FutureWarning: pandas.util.testing is deprecated. Use the functions in the public API at pandas.testing instead.\n",
            "  import pandas.util.testing as tm\n"
          ],
          "name": "stderr"
        }
      ]
    },
    {
      "cell_type": "code",
      "metadata": {
        "id": "rSluGJLByI3e",
        "colab_type": "code",
        "colab": {}
      },
      "source": [
        "from sklearn.feature_extraction.text import TfidfTransformer\n",
        "from sklearn.feature_extraction.text import CountVectorizer\n",
        "\n",
        "from sklearn.decomposition import TruncatedSVD\n",
        "from sklearn.decomposition import NMF\n",
        "\n",
        "from sklearn.cluster import KMeans\n",
        "from sklearn.cluster import DBSCAN"
      ],
      "execution_count": 0,
      "outputs": []
    },
    {
      "cell_type": "code",
      "metadata": {
        "id": "ww6aNfsUxvyF",
        "colab_type": "code",
        "outputId": "c2cb84a5-4a41-4e5c-e699-5e0d33ceaf10",
        "colab": {
          "base_uri": "https://localhost:8080/",
          "height": 70
        }
      },
      "source": [
        "from nltk.stem import WordNetLemmatizer\n",
        "from nltk.stem import PorterStemmer\n",
        "from nltk.tokenize import TreebankWordTokenizer\n",
        "from nltk.corpus import stopwords \n",
        "import nltk\n",
        "nltk.download('wordnet')"
      ],
      "execution_count": 0,
      "outputs": [
        {
          "output_type": "stream",
          "text": [
            "[nltk_data] Downloading package wordnet to /root/nltk_data...\n",
            "[nltk_data]   Unzipping corpora/wordnet.zip.\n"
          ],
          "name": "stdout"
        },
        {
          "output_type": "execute_result",
          "data": {
            "text/plain": [
              "True"
            ]
          },
          "metadata": {
            "tags": []
          },
          "execution_count": 64
        }
      ]
    },
    {
      "cell_type": "code",
      "metadata": {
        "id": "c_7DiMAlJwYL",
        "colab_type": "code",
        "colab": {}
      },
      "source": [
        "import gensim"
      ],
      "execution_count": 0,
      "outputs": []
    },
    {
      "cell_type": "code",
      "metadata": {
        "id": "ErYXLQEmJ6QH",
        "colab_type": "code",
        "outputId": "8ec67134-d108-4577-a768-8370e33c3be6",
        "colab": {
          "base_uri": "https://localhost:8080/",
          "height": 72
        }
      },
      "source": [
        "google_vec_file = 'drive/My Drive/GoogleNews-vectors-negative300.bin.gz'\n",
        "model = gensim.models.KeyedVectors.load_word2vec_format(google_vec_file, binary=True)"
      ],
      "execution_count": 0,
      "outputs": [
        {
          "output_type": "stream",
          "text": [
            "/usr/local/lib/python3.6/dist-packages/smart_open/smart_open_lib.py:253: UserWarning: This function is deprecated, use smart_open.open instead. See the migration notes for details: https://github.com/RaRe-Technologies/smart_open/blob/master/README.rst#migrating-to-the-new-open-function\n",
            "  'See the migration notes for details: %s' % _MIGRATION_NOTES_URL\n"
          ],
          "name": "stderr"
        }
      ]
    },
    {
      "cell_type": "code",
      "metadata": {
        "id": "kRJRqF0ZKjWg",
        "colab_type": "code",
        "outputId": "15ab3830-bbec-4051-e7ff-153f8f03d6aa",
        "colab": {
          "base_uri": "https://localhost:8080/",
          "height": 214
        }
      },
      "source": [
        "model.most_similar('s' ,topn=8)"
      ],
      "execution_count": 0,
      "outputs": [
        {
          "output_type": "stream",
          "text": [
            "/usr/local/lib/python3.6/dist-packages/gensim/matutils.py:737: FutureWarning: Conversion of the second argument of issubdtype from `int` to `np.signedinteger` is deprecated. In future, it will be treated as `np.int64 == np.dtype(int).type`.\n",
            "  if np.issubdtype(vec.dtype, np.int):\n"
          ],
          "name": "stderr"
        },
        {
          "output_type": "execute_result",
          "data": {
            "text/plain": [
              "[('Martinâ_€_™', 0.5794286727905273),\n",
              " ('€_™_s', 0.5770620703697205),\n",
              " ('™_s', 0.562404215335846),\n",
              " ('managementâ_€_™', 0.5574976205825806),\n",
              " ('sâ_€', 0.5574907064437866),\n",
              " ('otherâ_€_™', 0.5377866625785828),\n",
              " ('governorâ_€_™', 0.5338437557220459),\n",
              " ('everyoneâ_€_™', 0.5317774415016174)]"
            ]
          },
          "metadata": {
            "tags": []
          },
          "execution_count": 9
        }
      ]
    },
    {
      "cell_type": "code",
      "metadata": {
        "id": "InHncs5dtIfo",
        "colab_type": "code",
        "outputId": "f8ae0f25-243e-4135-c6c5-d65011b207e4",
        "colab": {
          "base_uri": "https://localhost:8080/",
          "height": 212
        }
      },
      "source": [
        "client = MongoClient()\n",
        "!mongorestore -d tv 'drive/My Drive/Metis-Project-4/dump/tv'"
      ],
      "execution_count": 0,
      "outputs": [
        {
          "output_type": "stream",
          "text": [
            "2020-05-17T14:19:03.133+0000\tthe --db and --collection args should only be used when restoring from a BSON file. Other uses are deprecated and will not exist in the future; use --nsInclude instead\n",
            "2020-05-17T14:19:03.568+0000\tbuilding a list of collections to restore from drive/My Drive/Metis-Project-4/dump/tv dir\n",
            "2020-05-17T14:19:03.813+0000\treading metadata for tv.posts from drive/My Drive/Metis-Project-4/dump/tv/posts.metadata.json\n",
            "2020-05-17T14:19:03.815+0000\treading metadata for tv.tv from drive/My Drive/Metis-Project-4/dump/tv/tv.metadata.json\n",
            "2020-05-17T14:19:04.094+0000\trestoring tv.tv from drive/My Drive/Metis-Project-4/dump/tv/tv.bson\n",
            "2020-05-17T14:19:04.116+0000\trestoring tv.posts from drive/My Drive/Metis-Project-4/dump/tv/posts.bson\n",
            "2020-05-17T14:19:04.257+0000\tno indexes to restore\n",
            "2020-05-17T14:19:04.257+0000\tfinished restoring tv.tv (234 documents)\n",
            "2020-05-17T14:19:05.342+0000\tno indexes to restore\n",
            "2020-05-17T14:19:05.342+0000\tfinished restoring tv.posts (22974 documents)\n",
            "2020-05-17T14:19:05.342+0000\tdone\n"
          ],
          "name": "stdout"
        }
      ]
    },
    {
      "cell_type": "code",
      "metadata": {
        "id": "lNiJvz6ivvoV",
        "colab_type": "code",
        "outputId": "f1c4edf4-bd0d-49f8-ab47-88482d5df8f9",
        "colab": {
          "base_uri": "https://localhost:8080/",
          "height": 514
        }
      },
      "source": [
        "db = client.tv\n",
        "client.list_database_names()\n",
        "list(db.tv.find({'subreddit': 'westworld'} ,{'_id':0, 'name':1 , 'episode_number': 1, 'tomato':1})) # ,{'_id':0, 'name':1 , 'episode_number': 1}"
      ],
      "execution_count": 0,
      "outputs": [
        {
          "output_type": "execute_result",
          "data": {
            "text/plain": [
              "[{'episode_number': 1, 'name': 'The Original', 'tomato': '100%'},\n",
              " {'episode_number': 2, 'name': 'Chestnut', 'tomato': '96%'},\n",
              " {'episode_number': 3, 'name': 'The Stray', 'tomato': '90%'},\n",
              " {'episode_number': 4, 'name': 'Dissonance Theory', 'tomato': '96%'},\n",
              " {'episode_number': 5, 'name': 'Contrapasso', 'tomato': '93%'},\n",
              " {'episode_number': 6, 'name': 'The Adversary', 'tomato': '89%'},\n",
              " {'episode_number': 7, 'name': \"Trompe L'Oeil\", 'tomato': '96%'},\n",
              " {'episode_number': 8, 'name': 'Trace Decay', 'tomato': '95%'},\n",
              " {'episode_number': 9, 'name': 'The Well-Tempered Clavier', 'tomato': '86%'},\n",
              " {'episode_number': 10, 'name': 'The Bicameral Mind', 'tomato': '94%'},\n",
              " {'episode_number': 1, 'name': 'Journey Into Night', 'tomato': '87%'},\n",
              " {'episode_number': 2, 'name': 'Reunion', 'tomato': '95%'},\n",
              " {'episode_number': 3, 'name': 'Virtù e Fortuna', 'tomato': '100%'},\n",
              " {'episode_number': 4, 'name': 'The Riddle of the Sphinx', 'tomato': '95%'},\n",
              " {'episode_number': 5, 'name': 'Akane No Mai', 'tomato': '90%'},\n",
              " {'episode_number': 6, 'name': 'Phase Space', 'tomato': '97%'},\n",
              " {'episode_number': 7, 'name': 'Les Écorchés', 'tomato': '88%'},\n",
              " {'episode_number': 8, 'name': 'Kiksuya', 'tomato': '95%'},\n",
              " {'episode_number': 9, 'name': 'Vanishing Point', 'tomato': '79%'},\n",
              " {'episode_number': 10, 'name': 'The Passenger', 'tomato': '73%'},\n",
              " {'episode_number': 1, 'name': 'Parce Domine', 'tomato': '90%'},\n",
              " {'episode_number': 2, 'name': 'The Winter Line', 'tomato': '89%'},\n",
              " {'episode_number': 3, 'name': 'The Absence of Field', 'tomato': '94%'},\n",
              " {'episode_number': 4, 'name': 'The Mother of Exiles', 'tomato': '84%'},\n",
              " {'episode_number': 5, 'name': 'Genre', 'tomato': '68%'},\n",
              " {'episode_number': 6, 'name': 'Decoherence', 'tomato': '84%'},\n",
              " {'episode_number': 7, 'name': 'Passed Pawn', 'tomato': '53%'},\n",
              " {'episode_number': 8, 'name': 'Crisis Theory', 'tomato': '50%'}]"
            ]
          },
          "metadata": {
            "tags": []
          },
          "execution_count": 11
        }
      ]
    },
    {
      "cell_type": "code",
      "metadata": {
        "id": "8cSDgOs2xG6b",
        "colab_type": "code",
        "colab": {}
      },
      "source": [
        "def cleaning(string):  \n",
        "    string = re.sub('http\\S*', ' ', string)\n",
        "    string = string.replace('[deleted]', '')\n",
        "    string = string.replace('[Nsfw]', '')\n",
        "    string = string.replace('[removed]', '')\n",
        "    string = re.sub('\\[.*?\\]\\(\\#s', ' ', string)\n",
        "    string = re.sub('\\/u\\/\\S*', ' ', string)\n",
        "    string = string.replace('\\n', ' ')\n",
        "    string = re.sub('\\S*\\d\\S*', ' ', string)\n",
        "    string = string.lower().strip()\n",
        "    string = re.sub('[^a-z\\s]', ' ', string)\n",
        "    string = re.sub('\\s{2,}', ' ', string)\n",
        "    string = string.replace(' s ', ' ')\n",
        "    string = string.replace(' t ', ' ')\n",
        "    return string"
      ],
      "execution_count": 0,
      "outputs": []
    },
    {
      "cell_type": "code",
      "metadata": {
        "id": "HykUIb4Jxc_F",
        "colab_type": "code",
        "colab": {}
      },
      "source": [
        "corpus = []\n",
        "corpus_raw = []\n",
        "posts_json = list(db.posts.find({'subreddit': 'westworld'},{'_id' : 0, 'title':1, 'selftext' : 1, 'episode.name' : 1, 'episode.tomato' : 1,'episode.season_number' : 1,'episode.episode_number' : 1}))\n",
        "for post in posts_json:\n",
        "    corpus.append(cleaning( post['title'] + ' ' + post['selftext'] ))\n",
        "    corpus_raw.append( post['title'] + ' ' + post['selftext'] )"
      ],
      "execution_count": 0,
      "outputs": []
    },
    {
      "cell_type": "code",
      "metadata": {
        "id": "Lx2By-vcRWBz",
        "colab_type": "code",
        "outputId": "0d6c8b1b-2ad5-443e-e6b9-2b8297f1ef20",
        "colab": {
          "base_uri": "https://localhost:8080/",
          "height": 176
        }
      },
      "source": [
        "doc_ep_info = pd.DataFrame( [posts['episode'] for posts in posts_json] )\n",
        "doc_ep_info['name'].unique()"
      ],
      "execution_count": 0,
      "outputs": [
        {
          "output_type": "execute_result",
          "data": {
            "text/plain": [
              "array(['The Original', 'Chestnut', 'The Stray', 'Dissonance Theory',\n",
              "       'Contrapasso', 'The Adversary', \"Trompe L'Oeil\", 'Trace Decay',\n",
              "       'The Well-Tempered Clavier', 'The Bicameral Mind',\n",
              "       'Journey Into Night', 'Reunion', 'Virtù e Fortuna',\n",
              "       'The Riddle of the Sphinx', 'Akane No Mai', 'Phase Space',\n",
              "       'Les Écorchés', 'Kiksuya', 'Vanishing Point', 'The Passenger',\n",
              "       'Parce Domine', 'The Winter Line', 'The Absence of Field',\n",
              "       'The Mother of Exiles', 'Genre', 'Decoherence', 'Passed Pawn',\n",
              "       'Crisis Theory'], dtype=object)"
            ]
          },
          "metadata": {
            "tags": []
          },
          "execution_count": 14
        }
      ]
    },
    {
      "cell_type": "code",
      "metadata": {
        "id": "TFcj3vjpAncw",
        "colab_type": "code",
        "colab": {}
      },
      "source": [
        "# stop_words = set(stopwords.words('english')) \n",
        "stop_words = set(CountVectorizer(stop_words='english').get_stop_words())\n",
        "stop_words.add('s')\n",
        "stop_words.add('t')\n",
        "def stop_and_stem(doc):\n",
        "    return [WordNetLemmatizer().lemmatize(w) for w in doc if not w in stop_words]\n",
        "\n",
        "def tokenizer(doc):\n",
        "    # TreebankWordTokenizer\n",
        "    tokens = TreebankWordTokenizer().tokenize(doc)\n",
        "    return stop_and_stem( tokens )\n",
        "\n",
        "analyzer = CountVectorizer(tokenizer=tokenizer,ngram_range=(1,1)).build_analyzer()\n",
        "def stemmed_words(doc):\n",
        "    # WordNetLemmatizer().lemmatize\n",
        "    # PorterStemmer().stem\n",
        "    return [WordNetLemmatizer.lemmatize(w) for w in analyzer(doc) if not w.split in stop_words]"
      ],
      "execution_count": 0,
      "outputs": []
    },
    {
      "cell_type": "code",
      "metadata": {
        "id": "JGle_hp7Ap6Z",
        "colab_type": "code",
        "colab": {}
      },
      "source": [
        "vectorizer = CountVectorizer(tokenizer=tokenizer,\n",
        "                                   preprocessor=None,\n",
        "                                   min_df = 3, #.004,\n",
        "                                   max_df = 0.7,\n",
        "                                   ngram_range=(1,1),\n",
        "#                                  analyzer=stemmed_words\n",
        "                                  )\n",
        "tfidf = TfidfTransformer()\n",
        "doc_word = pd.DataFrame.sparse.from_spmatrix(vectorizer.fit_transform(corpus),columns=vectorizer.get_feature_names())\n",
        "df_combined_doc = pd.concat([doc_ep_info.add_prefix('doc_ep_info_')['doc_ep_info_name'], doc_word], axis = 1).groupby(\"doc_ep_info_name\").sum()\n",
        "df_combined_doc = tfidf.fit_transform(df_combined_doc)\n",
        "doc_word = tfidf.transform(doc_word)"
      ],
      "execution_count": 0,
      "outputs": []
    },
    {
      "cell_type": "code",
      "metadata": {
        "id": "vkKCesjsBJjk",
        "colab_type": "code",
        "colab": {}
      },
      "source": [
        "doc_vec = [[] for doc in range(doc_word.shape[0])]\n",
        "coo = doc_word.tocoo()\n",
        "wrd_list = vectorizer.get_feature_names()\n",
        "for _doc, _word, _tfidf in zip(coo.row, coo.col, coo.data):\n",
        "  try:\n",
        "    doc_vec[_doc].append(model.get_vector(wrd_list[_word]) * _tfidf )\n",
        "  except:\n",
        "    pass\n",
        "doc_vec = np.vstack([ np.zeros(300) if len(doc) == 0 else np.array(doc).mean( axis = 0 ) for doc in doc_vec ])"
      ],
      "execution_count": 0,
      "outputs": []
    },
    {
      "cell_type": "code",
      "metadata": {
        "id": "CioSZo1l0lM2",
        "colab_type": "code",
        "outputId": "e6950d72-2bfc-46e5-c9e6-8c22d91bc7fb",
        "colab": {
          "base_uri": "https://localhost:8080/",
          "height": 87
        }
      },
      "source": [
        "# doc_vec = []\n",
        "# for doc in corpus:\n",
        "#   word_vec = []\n",
        "#   for word in doc.split(' '):\n",
        "#     try:\n",
        "#       word_vec.append(model.get_vector(word))\n",
        "#     except:\n",
        "#       pass\n",
        "#   doc_vec.append( np.array(word_vec).mean( axis = 0 ) )\n",
        "# doc_vec = np.vstack([ np.zeros(doc_vec[0].shape) if vec.shape != doc_vec[0].shape else vec for vec in doc_vec ])"
      ],
      "execution_count": 0,
      "outputs": [
        {
          "output_type": "stream",
          "text": [
            "/usr/local/lib/python3.6/dist-packages/ipykernel_launcher.py:9: RuntimeWarning: Mean of empty slice.\n",
            "  if __name__ == '__main__':\n",
            "/usr/local/lib/python3.6/dist-packages/numpy/core/_methods.py:161: RuntimeWarning: invalid value encountered in double_scalars\n",
            "  ret = ret.dtype.type(ret / rcount)\n"
          ],
          "name": "stderr"
        }
      ]
    },
    {
      "cell_type": "code",
      "metadata": {
        "id": "h4rbzZjbIhEL",
        "colab_type": "code",
        "outputId": "7e716585-8c96-4213-da0e-44f75412d140",
        "colab": {
          "base_uri": "https://localhost:8080/",
          "height": 335,
          "referenced_widgets": [
            "d0e354f99bd9440cb16af4f85381a41a",
            "d1db6da5a66f4a1da0e9e9846438001c",
            "a29534f6393e490c8a0e8e0c99e85f5d",
            "5bcad53c51da4ca39dc01038ca1d89aa",
            "36269a8f330940148c62cda1c6340fc9",
            "60dcc3d4e9cc42489329bd4805c9eab9",
            "0a13bec6f9bf4074a754a89952ce5b8d",
            "fdea2b03b4a54b72b431e7931afe871d"
          ]
        }
      },
      "source": [
        "interia = [None,None]\n",
        "for k in tqdm(range(2,25,1)):\n",
        "    km = KMeans(n_clusters=k,random_state=42)\n",
        "    km.fit(doc_vec)\n",
        "    interia.append(km.inertia_)\n",
        "plt.plot(interia, marker = 'o')"
      ],
      "execution_count": 0,
      "outputs": [
        {
          "output_type": "display_data",
          "data": {
            "application/vnd.jupyter.widget-view+json": {
              "model_id": "d0e354f99bd9440cb16af4f85381a41a",
              "version_minor": 0,
              "version_major": 2
            },
            "text/plain": [
              "HBox(children=(FloatProgress(value=0.0, max=23.0), HTML(value='')))"
            ]
          },
          "metadata": {
            "tags": []
          }
        },
        {
          "output_type": "stream",
          "text": [
            "\n"
          ],
          "name": "stdout"
        },
        {
          "output_type": "execute_result",
          "data": {
            "text/plain": [
              "[<matplotlib.lines.Line2D at 0x7f11475e1b38>]"
            ]
          },
          "metadata": {
            "tags": []
          },
          "execution_count": 82
        },
        {
          "output_type": "display_data",
          "data": {
            "image/png": "[encoded data removed]",
            "text/plain": [
              "<Figure size 432x288 with 1 Axes>"
            ]
          },
          "metadata": {
            "tags": []
          }
        }
      ]
    },
    {
      "cell_type": "code",
      "metadata": {
        "id": "W4vr_rbJQ5CH",
        "colab_type": "code",
        "outputId": "49f88a2f-5c76-401e-8194-dadc62b56150",
        "colab": {
          "base_uri": "https://localhost:8080/",
          "height": 321
        }
      },
      "source": [
        "k = 5\n",
        "km = KMeans(n_clusters=k,random_state=42)\n",
        "doc_vec_cluster = km.fit_predict(doc_vec)\n",
        "plt.hist(doc_vec_cluster,bins=range(k+1))"
      ],
      "execution_count": 0,
      "outputs": [
        {
          "output_type": "execute_result",
          "data": {
            "text/plain": [
              "(array([  49.,  956., 1693.,   51.,   51.]),\n",
              " array([0, 1, 2, 3, 4, 5]),\n",
              " <a list of 5 Patch objects>)"
            ]
          },
          "metadata": {
            "tags": []
          },
          "execution_count": 92
        },
        {
          "output_type": "display_data",
          "data": {
            "image/png": "[encoded data removed]",
            "text/plain": [
              "<Figure size 432x288 with 1 Axes>"
            ]
          },
          "metadata": {
            "tags": []
          }
        }
      ]
    },
    {
      "cell_type": "code",
      "metadata": {
        "id": "P79tBKaMNKDx",
        "colab_type": "code",
        "outputId": "1a57b9f3-3af5-4758-e301-dbd231744bc5",
        "colab": {
          "base_uri": "https://localhost:8080/",
          "height": 151
        }
      },
      "source": [
        "sns.set(style=\"white\", rc={\"axes.facecolor\": (0, 0, 0, 0)})\n",
        "pal = sns.cubehelix_palette(10, rot=-.25, light=.7)\n",
        "g = sns.FacetGrid(pd.concat([pd.DataFrame(doc_vec_cluster).add_prefix('hist_'), doc_ep_info], axis = 1),\n",
        "                  col = 'season_number', aspect=2, height=2, palette=pal) # row='episode_number', hue='episode_number'\n",
        "g.map(plt.hist, 'hist_0', bins = range(k+1))\n",
        "# g.fig.subplots_adjust(hspace=-.5)\n",
        "g.set_titles(\"\")\n",
        "# g.set(yticks=[])\n",
        "# g.despine(bottom=True, left=True)"
      ],
      "execution_count": 0,
      "outputs": [
        {
          "output_type": "execute_result",
          "data": {
            "text/plain": [
              "<seaborn.axisgrid.FacetGrid at 0x7f118c639c18>"
            ]
          },
          "metadata": {
            "tags": []
          },
          "execution_count": 93
        },
        {
          "output_type": "display_data",
          "data": {
            "image/png": "[encoded data removed]",
            "text/plain": [
              "<Figure size 864x144 with 3 Axes>"
            ]
          },
          "metadata": {
            "tags": []
          }
        }
      ]
    },
    {
      "cell_type": "code",
      "metadata": {
        "id": "2ALv_UF0bmgB",
        "colab_type": "code",
        "outputId": "bedc0fee-1a7c-48d3-e031-ebd275fcc73a",
        "colab": {
          "base_uri": "https://localhost:8080/",
          "height": 321
        }
      },
      "source": [
        "dbscan = DBSCAN(eps = .4, min_samples = 5)\n",
        "doc_vec_cluster = dbscan.fit_predict(doc_vec)\n",
        "# doc_vec_cluster=doc_topic_cluster[doc_vec_cluster!=-1]\n",
        "plt.hist(doc_vec_cluster,bins=np.unique(doc_vec_cluster))"
      ],
      "execution_count": 0,
      "outputs": [
        {
          "output_type": "execute_result",
          "data": {
            "text/plain": [
              "(array([1225., 1553.,   22.]),\n",
              " array([-1,  0,  1,  2]),\n",
              " <a list of 3 Patch objects>)"
            ]
          },
          "metadata": {
            "tags": []
          },
          "execution_count": 98
        },
        {
          "output_type": "display_data",
          "data": {
            "image/png": "[encoded data removed]",
            "text/plain": [
              "<Figure size 432x288 with 1 Axes>"
            ]
          },
          "metadata": {
            "tags": []
          }
        }
      ]
    },
    {
      "cell_type": "code",
      "metadata": {
        "id": "xXLYSQsNdBmY",
        "colab_type": "code",
        "outputId": "39624580-01c3-495e-bd83-513ad8caf624",
        "colab": {
          "base_uri": "https://localhost:8080/",
          "height": 151
        }
      },
      "source": [
        "sns.set(style=\"white\", rc={\"axes.facecolor\": (0, 0, 0, 0)})\n",
        "pal = sns.cubehelix_palette(10, rot=-.25, light=.7)\n",
        "g = sns.FacetGrid(pd.concat([pd.DataFrame(doc_vec_cluster).add_prefix('hist_'), doc_ep_info], axis = 1),\n",
        "                  col = 'season_number', aspect=2, height=2, palette=pal) # row='episode_number', hue='episode_number'\n",
        "g.map(plt.hist, 'hist_0', bins = np.unique(doc_vec_cluster))\n",
        "# g.fig.subplots_adjust(hspace=-.5)\n",
        "g.set_titles(\"\")\n",
        "# g.set(yticks=[])\n",
        "# g.despine(bottom=True, left=True)"
      ],
      "execution_count": 0,
      "outputs": [
        {
          "output_type": "execute_result",
          "data": {
            "text/plain": [
              "<seaborn.axisgrid.FacetGrid at 0x7f11477ccbe0>"
            ]
          },
          "metadata": {
            "tags": []
          },
          "execution_count": 99
        },
        {
          "output_type": "display_data",
          "data": {
            "image/png": "[encoded data removed]",
            "text/plain": [
              "<Figure size 864x144 with 3 Axes>"
            ]
          },
          "metadata": {
            "tags": []
          }
        }
      ]
    },
    {
      "cell_type": "code",
      "metadata": {
        "id": "CUufiXi0RA7P",
        "colab_type": "code",
        "outputId": "74b1eebc-8a46-49c8-e1ac-c9a4bce2573e",
        "colab": {
          "base_uri": "https://localhost:8080/",
          "height": 34
        }
      },
      "source": [
        "# import tensorflow as tf\n",
        "# from tensorflow import keras\n",
        "from keras.models import Model\n",
        "from keras.layers import Input, Dense, Dropout\n",
        "from keras.optimizers import Adam\n",
        "from keras import regularizers"
      ],
      "execution_count": 0,
      "outputs": [
        {
          "output_type": "stream",
          "text": [
            "Using TensorFlow backend.\n"
          ],
          "name": "stderr"
        }
      ]
    },
    {
      "cell_type": "code",
      "metadata": {
        "id": "hL4eNSd1XWP8",
        "colab_type": "code",
        "colab": {}
      },
      "source": [
        "tomato_rating = pd.to_numeric(doc_ep_info['tomato'].str.replace('%',''))"
      ],
      "execution_count": 0,
      "outputs": []
    },
    {
      "cell_type": "code",
      "metadata": {
        "id": "0Sp5ysG2VV79",
        "colab_type": "code",
        "outputId": "01fbe078-3732-44a0-ff59-3f54ee9fa4df",
        "colab": {
          "base_uri": "https://localhost:8080/",
          "height": 390
        }
      },
      "source": [
        "inputs = Input(shape=(300,))\n",
        "x = Dense(100, activation='relu')(inputs)\n",
        "x = Dense(50, activation='relu')(x)\n",
        "x = Dense(10, activation='relu')(x)\n",
        "x = Dense(1)(x)\n",
        "model_tomato = Model(inputs=inputs, outputs=x)\n",
        "\n",
        "opt = Adam(learning_rate=0.01)\n",
        "model_tomato.compile(optimizer='Adam',loss='mean_squared_error',metrics=['mean_absolute_error'])\n",
        "history = model_tomato.fit(doc_vec,tomato_rating,epochs=10,validation_split=0.2)"
      ],
      "execution_count": 0,
      "outputs": [
        {
          "output_type": "stream",
          "text": [
            "Train on 2240 samples, validate on 560 samples\n",
            "Epoch 1/10\n",
            "2240/2240 [==============================] - 1s 230us/step - loss: 6927.7802 - mean_absolute_error: 82.3140 - val_loss: 1238.2794 - val_mean_absolute_error: 30.8920\n",
            "Epoch 2/10\n",
            "2240/2240 [==============================] - 0s 74us/step - loss: 485.2526 - mean_absolute_error: 15.8464 - val_loss: 774.8395 - val_mean_absolute_error: 22.4446\n",
            "Epoch 3/10\n",
            "2240/2240 [==============================] - 0s 70us/step - loss: 125.7542 - mean_absolute_error: 7.7720 - val_loss: 776.8566 - val_mean_absolute_error: 22.6809\n",
            "Epoch 4/10\n",
            "2240/2240 [==============================] - 0s 63us/step - loss: 92.4570 - mean_absolute_error: 6.4099 - val_loss: 767.6992 - val_mean_absolute_error: 22.5980\n",
            "Epoch 5/10\n",
            "2240/2240 [==============================] - 0s 65us/step - loss: 79.2808 - mean_absolute_error: 5.8764 - val_loss: 669.1917 - val_mean_absolute_error: 20.7870\n",
            "Epoch 6/10\n",
            "2240/2240 [==============================] - 0s 62us/step - loss: 74.2538 - mean_absolute_error: 5.7278 - val_loss: 729.6401 - val_mean_absolute_error: 21.9759\n",
            "Epoch 7/10\n",
            "2240/2240 [==============================] - 0s 65us/step - loss: 70.6997 - mean_absolute_error: 5.5874 - val_loss: 684.1095 - val_mean_absolute_error: 21.1355\n",
            "Epoch 8/10\n",
            "2240/2240 [==============================] - 0s 74us/step - loss: 67.3331 - mean_absolute_error: 5.4794 - val_loss: 713.9078 - val_mean_absolute_error: 21.7149\n",
            "Epoch 9/10\n",
            "2240/2240 [==============================] - 0s 93us/step - loss: 65.1863 - mean_absolute_error: 5.4006 - val_loss: 703.0807 - val_mean_absolute_error: 21.5110\n",
            "Epoch 10/10\n",
            "2240/2240 [==============================] - 0s 73us/step - loss: 63.3213 - mean_absolute_error: 5.3379 - val_loss: 695.4331 - val_mean_absolute_error: 21.3599\n"
          ],
          "name": "stdout"
        }
      ]
    },
    {
      "cell_type": "code",
      "metadata": {
        "id": "dpUfTzO1Wns0",
        "colab_type": "code",
        "colab": {}
      },
      "source": [
        ""
      ],
      "execution_count": 0,
      "outputs": []
    },
    {
      "cell_type": "code",
      "metadata": {
        "id": "xtiF3OaBWoBi",
        "colab_type": "code",
        "colab": {}
      },
      "source": [
        ""
      ],
      "execution_count": 0,
      "outputs": []
    }
  ]
}